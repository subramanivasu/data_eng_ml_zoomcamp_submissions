{
 "cells": [
  {
   "cell_type": "code",
   "execution_count": 1,
   "source": [
    "# Load the Model\n",
    "\n",
    "#importing pickle library\n",
    "import pickle\n",
    "\n",
    "\n",
    "\n",
    "model_file = 'model1.bin'\n",
    "\n",
    "\n",
    "with open(model_file,'rb') as f_in:#'rb' - Read binary\n",
    "    model = pickle.load(f_in)\n",
    "\n",
    "dv_file = 'dv.bin'\n",
    "\n",
    "with open(dv_file,'rb') as f_in:#'rb' - Read binary\n",
    "    dv = pickle.load(f_in)\n",
    "    \n",
    "customer = {\"contract\": \"two_year\", \"tenure\": 12, \"monthlycharges\": 19.7}\n",
    "\n",
    "\n",
    "X = dv.transform([customer])\n",
    "\n",
    "y_pred = model.predict_proba(X)[:,1][0]\n",
    "\n",
    "print('Input : ',customer)\n",
    "print(\"Churn probability : \",round(y_pred,3))\n",
    "\n"
   ],
   "outputs": [
    {
     "output_type": "stream",
     "name": "stdout",
     "text": [
      "Input :  {'contract': 'two_year', 'tenure': 12, 'monthlycharges': 19.7}\n",
      "Churn probability :  0.115\n"
     ]
    }
   ],
   "metadata": {}
  }
 ],
 "metadata": {
  "kernelspec": {
   "display_name": "Python [conda env:python39]",
   "language": "python",
   "name": "conda-env-python39-py"
  },
  "language_info": {
   "codemirror_mode": {
    "name": "ipython",
    "version": 3
   },
   "file_extension": ".py",
   "mimetype": "text/x-python",
   "name": "python",
   "nbconvert_exporter": "python",
   "pygments_lexer": "ipython3",
   "version": "3.9.7"
  }
 },
 "nbformat": 4,
 "nbformat_minor": 5
}