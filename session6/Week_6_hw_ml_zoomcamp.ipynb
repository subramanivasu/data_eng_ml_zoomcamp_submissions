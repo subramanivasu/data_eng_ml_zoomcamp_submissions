{
 "cells": [
  {
   "cell_type": "markdown",
   "metadata": {},
   "source": [
    "## 6.10 Homework\n",
    "\n",
    "The goal of this homework is to create a tree-based regression model for prediction apartment prices (column 'price').\n",
    "\n",
    "In this homework we'll again use the New York City Airbnb Open Data dataset - the same one we used in homework 2 and 3.\n",
    "\n",
    "You can take it from Kaggle or download from here if you don't want to sign up to Kaggle.\n",
    "\n",
    "Let's load the data:\n"
   ]
  },
  {
   "cell_type": "code",
   "execution_count": 31,
   "metadata": {},
   "outputs": [],
   "source": [
    "import pandas as pd\n",
    "import numpy as np\n",
    "\n",
    "import seaborn as sns\n",
    "from matplotlib import pyplot as plt\n",
    "%matplotlib inline"
   ]
  },
  {
   "cell_type": "code",
   "execution_count": 32,
   "metadata": {},
   "outputs": [],
   "source": [
    "data = 'https://raw.githubusercontent.com/alexeygrigorev/datasets/master/AB_NYC_2019.csv'"
   ]
  },
  {
   "cell_type": "code",
   "execution_count": 33,
   "metadata": {},
   "outputs": [
    {
     "name": "stdout",
     "output_type": "stream",
     "text": [
      "--2021-10-17 09:52:43--  https://raw.githubusercontent.com/alexeygrigorev/datasets/master/AB_NYC_2019.csv\n",
      "Resolving raw.githubusercontent.com (raw.githubusercontent.com)... 185.199.111.133, 185.199.110.133, 185.199.109.133, ...\n",
      "Connecting to raw.githubusercontent.com (raw.githubusercontent.com)|185.199.111.133|:443... connected.\n",
      "HTTP request sent, awaiting response... 200 OK\n",
      "Length: 7077973 (6.8M) [text/plain]\n",
      "Saving to: ‘AB_NYC_2019.csv.1’\n",
      "\n",
      "AB_NYC_2019.csv.1   100%[===================>]   6.75M  8.88MB/s    in 0.8s    \n",
      "\n",
      "2021-10-17 09:52:44 (8.88 MB/s) - ‘AB_NYC_2019.csv.1’ saved [7077973/7077973]\n",
      "\n"
     ]
    }
   ],
   "source": [
    "!wget $data"
   ]
  },
  {
   "cell_type": "code",
   "execution_count": 34,
   "metadata": {},
   "outputs": [],
   "source": [
    "columns = [\n",
    "    'neighbourhood_group', 'room_type', 'latitude', 'longitude',\n",
    "    'minimum_nights', 'number_of_reviews','reviews_per_month',\n",
    "    'calculated_host_listings_count', 'availability_365',\n",
    "    'price'\n",
    "]\n",
    "\n",
    "df = pd.read_csv('AB_NYC_2019.csv', usecols=columns)\n",
    "df.reviews_per_month = df.reviews_per_month.fillna(0)"
   ]
  },
  {
   "cell_type": "markdown",
   "metadata": {},
   "source": [
    "\n",
    "\n",
    "    Apply the log tranform to price\n",
    "\n",
    "    Do train/validation/test split with 60%/20%/20% distribution.\n",
    "    \n",
    "    Use the train_test_split function and set the random_state parameter to 1\n",
    "\n"
   ]
  },
  {
   "cell_type": "code",
   "execution_count": 35,
   "metadata": {},
   "outputs": [],
   "source": [
    "df.columns = df.columns.str.lower()"
   ]
  },
  {
   "cell_type": "code",
   "execution_count": 36,
   "metadata": {},
   "outputs": [
    {
     "data": {
      "text/html": [
       "<div>\n",
       "<style scoped>\n",
       "    .dataframe tbody tr th:only-of-type {\n",
       "        vertical-align: middle;\n",
       "    }\n",
       "\n",
       "    .dataframe tbody tr th {\n",
       "        vertical-align: top;\n",
       "    }\n",
       "\n",
       "    .dataframe thead th {\n",
       "        text-align: right;\n",
       "    }\n",
       "</style>\n",
       "<table border=\"1\" class=\"dataframe\">\n",
       "  <thead>\n",
       "    <tr style=\"text-align: right;\">\n",
       "      <th></th>\n",
       "      <th>neighbourhood_group</th>\n",
       "      <th>latitude</th>\n",
       "      <th>longitude</th>\n",
       "      <th>room_type</th>\n",
       "      <th>price</th>\n",
       "      <th>minimum_nights</th>\n",
       "      <th>number_of_reviews</th>\n",
       "      <th>reviews_per_month</th>\n",
       "      <th>calculated_host_listings_count</th>\n",
       "      <th>availability_365</th>\n",
       "    </tr>\n",
       "  </thead>\n",
       "  <tbody>\n",
       "    <tr>\n",
       "      <th>0</th>\n",
       "      <td>Brooklyn</td>\n",
       "      <td>40.64749</td>\n",
       "      <td>-73.97237</td>\n",
       "      <td>Private room</td>\n",
       "      <td>149</td>\n",
       "      <td>1</td>\n",
       "      <td>9</td>\n",
       "      <td>0.21</td>\n",
       "      <td>6</td>\n",
       "      <td>365</td>\n",
       "    </tr>\n",
       "    <tr>\n",
       "      <th>1</th>\n",
       "      <td>Manhattan</td>\n",
       "      <td>40.75362</td>\n",
       "      <td>-73.98377</td>\n",
       "      <td>Entire home/apt</td>\n",
       "      <td>225</td>\n",
       "      <td>1</td>\n",
       "      <td>45</td>\n",
       "      <td>0.38</td>\n",
       "      <td>2</td>\n",
       "      <td>355</td>\n",
       "    </tr>\n",
       "    <tr>\n",
       "      <th>2</th>\n",
       "      <td>Manhattan</td>\n",
       "      <td>40.80902</td>\n",
       "      <td>-73.94190</td>\n",
       "      <td>Private room</td>\n",
       "      <td>150</td>\n",
       "      <td>3</td>\n",
       "      <td>0</td>\n",
       "      <td>0.00</td>\n",
       "      <td>1</td>\n",
       "      <td>365</td>\n",
       "    </tr>\n",
       "    <tr>\n",
       "      <th>3</th>\n",
       "      <td>Brooklyn</td>\n",
       "      <td>40.68514</td>\n",
       "      <td>-73.95976</td>\n",
       "      <td>Entire home/apt</td>\n",
       "      <td>89</td>\n",
       "      <td>1</td>\n",
       "      <td>270</td>\n",
       "      <td>4.64</td>\n",
       "      <td>1</td>\n",
       "      <td>194</td>\n",
       "    </tr>\n",
       "    <tr>\n",
       "      <th>4</th>\n",
       "      <td>Manhattan</td>\n",
       "      <td>40.79851</td>\n",
       "      <td>-73.94399</td>\n",
       "      <td>Entire home/apt</td>\n",
       "      <td>80</td>\n",
       "      <td>10</td>\n",
       "      <td>9</td>\n",
       "      <td>0.10</td>\n",
       "      <td>1</td>\n",
       "      <td>0</td>\n",
       "    </tr>\n",
       "    <tr>\n",
       "      <th>...</th>\n",
       "      <td>...</td>\n",
       "      <td>...</td>\n",
       "      <td>...</td>\n",
       "      <td>...</td>\n",
       "      <td>...</td>\n",
       "      <td>...</td>\n",
       "      <td>...</td>\n",
       "      <td>...</td>\n",
       "      <td>...</td>\n",
       "      <td>...</td>\n",
       "    </tr>\n",
       "    <tr>\n",
       "      <th>48890</th>\n",
       "      <td>Brooklyn</td>\n",
       "      <td>40.67853</td>\n",
       "      <td>-73.94995</td>\n",
       "      <td>Private room</td>\n",
       "      <td>70</td>\n",
       "      <td>2</td>\n",
       "      <td>0</td>\n",
       "      <td>0.00</td>\n",
       "      <td>2</td>\n",
       "      <td>9</td>\n",
       "    </tr>\n",
       "    <tr>\n",
       "      <th>48891</th>\n",
       "      <td>Brooklyn</td>\n",
       "      <td>40.70184</td>\n",
       "      <td>-73.93317</td>\n",
       "      <td>Private room</td>\n",
       "      <td>40</td>\n",
       "      <td>4</td>\n",
       "      <td>0</td>\n",
       "      <td>0.00</td>\n",
       "      <td>2</td>\n",
       "      <td>36</td>\n",
       "    </tr>\n",
       "    <tr>\n",
       "      <th>48892</th>\n",
       "      <td>Manhattan</td>\n",
       "      <td>40.81475</td>\n",
       "      <td>-73.94867</td>\n",
       "      <td>Entire home/apt</td>\n",
       "      <td>115</td>\n",
       "      <td>10</td>\n",
       "      <td>0</td>\n",
       "      <td>0.00</td>\n",
       "      <td>1</td>\n",
       "      <td>27</td>\n",
       "    </tr>\n",
       "    <tr>\n",
       "      <th>48893</th>\n",
       "      <td>Manhattan</td>\n",
       "      <td>40.75751</td>\n",
       "      <td>-73.99112</td>\n",
       "      <td>Shared room</td>\n",
       "      <td>55</td>\n",
       "      <td>1</td>\n",
       "      <td>0</td>\n",
       "      <td>0.00</td>\n",
       "      <td>6</td>\n",
       "      <td>2</td>\n",
       "    </tr>\n",
       "    <tr>\n",
       "      <th>48894</th>\n",
       "      <td>Manhattan</td>\n",
       "      <td>40.76404</td>\n",
       "      <td>-73.98933</td>\n",
       "      <td>Private room</td>\n",
       "      <td>90</td>\n",
       "      <td>7</td>\n",
       "      <td>0</td>\n",
       "      <td>0.00</td>\n",
       "      <td>1</td>\n",
       "      <td>23</td>\n",
       "    </tr>\n",
       "  </tbody>\n",
       "</table>\n",
       "<p>48895 rows × 10 columns</p>\n",
       "</div>"
      ],
      "text/plain": [
       "      neighbourhood_group  latitude  longitude        room_type  price  \\\n",
       "0                Brooklyn  40.64749  -73.97237     Private room    149   \n",
       "1               Manhattan  40.75362  -73.98377  Entire home/apt    225   \n",
       "2               Manhattan  40.80902  -73.94190     Private room    150   \n",
       "3                Brooklyn  40.68514  -73.95976  Entire home/apt     89   \n",
       "4               Manhattan  40.79851  -73.94399  Entire home/apt     80   \n",
       "...                   ...       ...        ...              ...    ...   \n",
       "48890            Brooklyn  40.67853  -73.94995     Private room     70   \n",
       "48891            Brooklyn  40.70184  -73.93317     Private room     40   \n",
       "48892           Manhattan  40.81475  -73.94867  Entire home/apt    115   \n",
       "48893           Manhattan  40.75751  -73.99112      Shared room     55   \n",
       "48894           Manhattan  40.76404  -73.98933     Private room     90   \n",
       "\n",
       "       minimum_nights  number_of_reviews  reviews_per_month  \\\n",
       "0                   1                  9               0.21   \n",
       "1                   1                 45               0.38   \n",
       "2                   3                  0               0.00   \n",
       "3                   1                270               4.64   \n",
       "4                  10                  9               0.10   \n",
       "...               ...                ...                ...   \n",
       "48890               2                  0               0.00   \n",
       "48891               4                  0               0.00   \n",
       "48892              10                  0               0.00   \n",
       "48893               1                  0               0.00   \n",
       "48894               7                  0               0.00   \n",
       "\n",
       "       calculated_host_listings_count  availability_365  \n",
       "0                                   6               365  \n",
       "1                                   2               355  \n",
       "2                                   1               365  \n",
       "3                                   1               194  \n",
       "4                                   1                 0  \n",
       "...                               ...               ...  \n",
       "48890                               2                 9  \n",
       "48891                               2                36  \n",
       "48892                               1                27  \n",
       "48893                               6                 2  \n",
       "48894                               1                23  \n",
       "\n",
       "[48895 rows x 10 columns]"
      ]
     },
     "execution_count": 36,
     "metadata": {},
     "output_type": "execute_result"
    }
   ],
   "source": [
    "df"
   ]
  },
  {
   "cell_type": "code",
   "execution_count": 37,
   "metadata": {},
   "outputs": [],
   "source": [
    "from sklearn.model_selection import train_test_split\n",
    "df_full_train,df_test = train_test_split(df,test_size=0.2,random_state=1)\n",
    "df_train,df_val= train_test_split(df_full_train,test_size=0.25,random_state=1)"
   ]
  },
  {
   "cell_type": "code",
   "execution_count": 38,
   "metadata": {},
   "outputs": [],
   "source": [
    "df_train = df_train.reset_index(drop=True)\n",
    "df_val = df_val.reset_index(drop=True)\n",
    "df_test = df_test.reset_index(drop=True)"
   ]
  },
  {
   "cell_type": "code",
   "execution_count": 39,
   "metadata": {},
   "outputs": [],
   "source": [
    "\n",
    "y_train = np.log1p(df_train.price.values)\n",
    "y_val = np.log1p(df_val.price.values)\n",
    "y_test = np.log1p(df_test.price.values)\n",
    "\n"
   ]
  },
  {
   "cell_type": "code",
   "execution_count": 40,
   "metadata": {},
   "outputs": [
    {
     "data": {
      "text/plain": [
       "array([4.7095302 , 4.26267988, 6.13339804, ..., 3.93182563, 5.52545294,\n",
       "       5.39362755])"
      ]
     },
     "execution_count": 40,
     "metadata": {},
     "output_type": "execute_result"
    }
   ],
   "source": [
    "y_train"
   ]
  },
  {
   "cell_type": "code",
   "execution_count": 41,
   "metadata": {},
   "outputs": [],
   "source": [
    "del df_train['price']\n",
    "del df_val['price']\n",
    "del df_test['price']"
   ]
  },
  {
   "cell_type": "markdown",
   "metadata": {},
   "source": [
    "Now, use DictVectorizer to turn train and validation into matrices:"
   ]
  },
  {
   "cell_type": "code",
   "execution_count": 42,
   "metadata": {},
   "outputs": [],
   "source": [
    "from sklearn.tree import DecisionTreeRegressor\n",
    "from sklearn.feature_extraction import DictVectorizer\n",
    "from sklearn.metrics import roc_auc_score"
   ]
  },
  {
   "cell_type": "code",
   "execution_count": 43,
   "metadata": {},
   "outputs": [],
   "source": [
    "train_dicts = df_train.fillna(0).to_dict(orient='records')\n",
    "dv = DictVectorizer(sparse=False)"
   ]
  },
  {
   "cell_type": "code",
   "execution_count": 44,
   "metadata": {},
   "outputs": [
    {
     "data": {
      "text/plain": [
       "array([[363.     ,   1.     ,  40.76434, ...,   1.     ,   0.     ,\n",
       "          0.     ],\n",
       "       [  0.     ,   1.     ,  40.73442, ...,   0.     ,   1.     ,\n",
       "          0.     ],\n",
       "       [113.     ,   5.     ,  40.66359, ...,   1.     ,   0.     ,\n",
       "          0.     ],\n",
       "       ...,\n",
       "       [178.     ,   2.     ,  40.69034, ...,   0.     ,   1.     ,\n",
       "          0.     ],\n",
       "       [  0.     ,   1.     ,  40.76324, ...,   1.     ,   0.     ,\n",
       "          0.     ],\n",
       "       [362.     ,  23.     ,  40.74563, ...,   1.     ,   0.     ,\n",
       "          0.     ]])"
      ]
     },
     "execution_count": 44,
     "metadata": {},
     "output_type": "execute_result"
    }
   ],
   "source": [
    "X_train = dv.fit_transform(train_dicts)\n",
    "X_train"
   ]
  },
  {
   "cell_type": "code",
   "execution_count": 45,
   "metadata": {},
   "outputs": [],
   "source": [
    "val_dicts = df_val.fillna(0).to_dict(orient='records')\n",
    "X_val = dv.transform(val_dicts)"
   ]
  },
  {
   "cell_type": "markdown",
   "metadata": {},
   "source": [
    "## Question 1\n",
    "\n",
    "Let's train a decision tree regressor to predict the price variable.\n",
    "\n",
    "    Train a model with max_depth=1\n",
    "\n"
   ]
  },
  {
   "cell_type": "code",
   "execution_count": 46,
   "metadata": {},
   "outputs": [
    {
     "data": {
      "text/plain": [
       "DecisionTreeRegressor(max_depth=1)"
      ]
     },
     "execution_count": 46,
     "metadata": {},
     "output_type": "execute_result"
    }
   ],
   "source": [
    "dt = DecisionTreeRegressor(max_depth=1)\n",
    "dt.fit(X_train,y_train)"
   ]
  },
  {
   "cell_type": "code",
   "execution_count": 47,
   "metadata": {},
   "outputs": [
    {
     "data": {
      "text/plain": [
       "array([4.29239363, 5.14878079, 5.14878079, ..., 5.14878079, 5.14878079,\n",
       "       5.14878079])"
      ]
     },
     "execution_count": 47,
     "metadata": {},
     "output_type": "execute_result"
    }
   ],
   "source": [
    "y_pred = dt.predict(X_val)\n",
    "y_pred"
   ]
  },
  {
   "cell_type": "code",
   "execution_count": 48,
   "metadata": {},
   "outputs": [],
   "source": [
    "from sklearn.tree import export_text"
   ]
  },
  {
   "cell_type": "code",
   "execution_count": 49,
   "metadata": {},
   "outputs": [
    {
     "name": "stdout",
     "output_type": "stream",
     "text": [
      "|--- room_type=Entire home/apt <= 0.50\n",
      "|   |--- value: [4.29]\n",
      "|--- room_type=Entire home/apt >  0.50\n",
      "|   |--- value: [5.15]\n",
      "\n"
     ]
    },
    {
     "name": "stderr",
     "output_type": "stream",
     "text": [
      "/home/subman_jil/anaconda3/envs/py39tf2.6/lib/python3.9/site-packages/sklearn/utils/deprecation.py:87: FutureWarning: Function get_feature_names is deprecated; get_feature_names is deprecated in 1.0 and will be removed in 1.2. Please use get_feature_names_out instead.\n",
      "  warnings.warn(msg, category=FutureWarning)\n"
     ]
    }
   ],
   "source": [
    "print(export_text(dt,feature_names=dv.get_feature_names()))"
   ]
  },
  {
   "cell_type": "markdown",
   "metadata": {},
   "source": [
    "\n",
    "\n",
    "Which feature is used for splitting the data?\n",
    "\n",
    "    room_type\n",
    "    neighbourhood_group\n",
    "    number_of_reviews\n",
    "    reviews_per_month\n",
    "\n"
   ]
  },
  {
   "cell_type": "markdown",
   "metadata": {},
   "source": [
    "\n",
    "Question 2\n",
    "\n",
    "Train a random forest model with these parameters:\n",
    "\n",
    "    n_estimators=10\n",
    "    random_state=1\n",
    "    n_jobs=-1 (optional - to make training faster)\n",
    "\n"
   ]
  },
  {
   "cell_type": "code",
   "execution_count": 50,
   "metadata": {},
   "outputs": [],
   "source": [
    "from sklearn.ensemble import RandomForestRegressor"
   ]
  },
  {
   "cell_type": "code",
   "execution_count": 51,
   "metadata": {},
   "outputs": [
    {
     "data": {
      "text/plain": [
       "RandomForestRegressor(n_estimators=10, random_state=1)"
      ]
     },
     "execution_count": 51,
     "metadata": {},
     "output_type": "execute_result"
    }
   ],
   "source": [
    "rf = RandomForestRegressor(n_estimators=10,\n",
    "                            random_state=1)\n",
    "rf.fit(X_train, y_train)\n"
   ]
  },
  {
   "cell_type": "code",
   "execution_count": 52,
   "metadata": {},
   "outputs": [
    {
     "data": {
      "text/plain": [
       "array([4.8782275 , 4.79199459, 5.49902928, ..., 5.03652684, 4.72644125,\n",
       "       5.41201993])"
      ]
     },
     "execution_count": 52,
     "metadata": {},
     "output_type": "execute_result"
    }
   ],
   "source": [
    "y_pred = rf.predict(X_val)\n",
    "y_pred"
   ]
  },
  {
   "cell_type": "code",
   "execution_count": 53,
   "metadata": {},
   "outputs": [],
   "source": [
    "\n",
    "def rmse(y, y_pred):\n",
    "    se = (y - y_pred) ** 2\n",
    "    mse = se.mean()\n",
    "    return np.sqrt(mse)"
   ]
  },
  {
   "cell_type": "code",
   "execution_count": 54,
   "metadata": {},
   "outputs": [
    {
     "name": "stdout",
     "output_type": "stream",
     "text": [
      " RMSE of this model on validation : 0.4598535778342608\n"
     ]
    }
   ],
   "source": [
    "rmse_score = rmse(y_val,y_pred)\n",
    "print(\" RMSE of this model on validation : %s\" %(rmse_score))"
   ]
  },
  {
   "cell_type": "markdown",
   "metadata": {},
   "source": [
    "\n",
    "\n",
    "What's the RMSE of this model on validation?\n",
    "\n",
    "    0.059\n",
    "    0.259\n",
    "    0.459\n",
    "    0.659\n",
    "\n"
   ]
  },
  {
   "cell_type": "markdown",
   "metadata": {},
   "source": [
    "\n",
    "Question 3\n",
    "\n",
    "Now let's experiment with the n_estimators parameter\n",
    "\n",
    "    Try different values of this parameter from 10 to 200 with step 10\n",
    "    Set random_state to 1\n",
    "    Evaluate the model on the validation dataset\n",
    "\n"
   ]
  },
  {
   "cell_type": "code",
   "execution_count": 55,
   "metadata": {},
   "outputs": [
    {
     "name": "stdout",
     "output_type": "stream",
     "text": [
      "Est :   10 , RMSE : 0.460 \n",
      "Est :   20 , RMSE : 0.448 \n",
      "Est :   30 , RMSE : 0.445 \n",
      "Est :   40 , RMSE : 0.443 \n",
      "Est :   50 , RMSE : 0.442 \n",
      "Est :   60 , RMSE : 0.442 \n",
      "Est :   70 , RMSE : 0.441 \n",
      "Est :   80 , RMSE : 0.441 \n",
      "Est :   90 , RMSE : 0.440 \n",
      "Est :  100 , RMSE : 0.440 \n",
      "Est :  110 , RMSE : 0.439 \n",
      "Est :  120 , RMSE : 0.439 \n",
      "Est :  130 , RMSE : 0.439 \n",
      "Est :  140 , RMSE : 0.439 \n",
      "Est :  150 , RMSE : 0.439 \n",
      "Est :  160 , RMSE : 0.439 \n",
      "Est :  170 , RMSE : 0.439 \n",
      "Est :  180 , RMSE : 0.439 \n",
      "Est :  190 , RMSE : 0.439 \n",
      "Est :  200 , RMSE : 0.439 \n"
     ]
    }
   ],
   "source": [
    "scores=[]\n",
    "for n in range(10,201,10):\n",
    "    rf = RandomForestRegressor(n_estimators=n,random_state=1,n_jobs=-1)\n",
    "    rf.fit(X_train, y_train)\n",
    "\n",
    "    y_pred = rf.predict(X_val)\n",
    "    rmse_score =  rmse(y_val,y_pred)\n",
    "    scores.append((n,rmse_score))\n",
    "    print(\"Est : %4s , RMSE : %.3f \" %(n, rmse(y_val,y_pred)))"
   ]
  },
  {
   "cell_type": "markdown",
   "metadata": {},
   "source": [
    "\n",
    "\n",
    "After which value of n_estimators does RMSE stop improving?\n",
    "\n",
    "    10\n",
    "    50\n",
    "    70\n",
    "    120\n",
    "\n"
   ]
  },
  {
   "cell_type": "markdown",
   "metadata": {},
   "source": [
    "\n",
    "Question 4\n",
    "\n",
    "Let's select the best max_depth:\n",
    "\n",
    "    Try different values of max_depth: [10, 15, 20, 25]\n",
    "    For each of these values, try different values of n_estimators from 10 till 200 (with step 10)\n",
    "    Fix the random seed: random_state=1\n",
    "\n"
   ]
  },
  {
   "cell_type": "code",
   "execution_count": 56,
   "metadata": {},
   "outputs": [
    {
     "name": "stdout",
     "output_type": "stream",
     "text": [
      "Depth:  10 , Est :   10 , RMSE : 0.446 \n",
      "Depth:  10 , Est :   20 , RMSE : 0.442 \n",
      "Depth:  10 , Est :   30 , RMSE : 0.441 \n",
      "Depth:  10 , Est :   40 , RMSE : 0.442 \n",
      "Depth:  10 , Est :   50 , RMSE : 0.441 \n",
      "Depth:  10 , Est :   60 , RMSE : 0.441 \n",
      "Depth:  10 , Est :   70 , RMSE : 0.441 \n",
      "Depth:  10 , Est :   80 , RMSE : 0.441 \n",
      "Depth:  10 , Est :   90 , RMSE : 0.440 \n",
      "Depth:  10 , Est :  100 , RMSE : 0.440 \n",
      "Depth:  10 , Est :  110 , RMSE : 0.440 \n",
      "Depth:  10 , Est :  120 , RMSE : 0.440 \n",
      "Depth:  10 , Est :  130 , RMSE : 0.440 \n",
      "Depth:  10 , Est :  140 , RMSE : 0.440 \n",
      "Depth:  10 , Est :  150 , RMSE : 0.440 \n",
      "Depth:  10 , Est :  160 , RMSE : 0.440 \n",
      "Depth:  10 , Est :  170 , RMSE : 0.440 \n",
      "Depth:  10 , Est :  180 , RMSE : 0.440 \n",
      "Depth:  10 , Est :  190 , RMSE : 0.440 \n",
      "Depth:  10 , Est :  200 , RMSE : 0.440 \n",
      "Depth:  15 , Est :   10 , RMSE : 0.450 \n",
      "Depth:  15 , Est :   20 , RMSE : 0.441 \n",
      "Depth:  15 , Est :   30 , RMSE : 0.439 \n",
      "Depth:  15 , Est :   40 , RMSE : 0.439 \n",
      "Depth:  15 , Est :   50 , RMSE : 0.438 \n",
      "Depth:  15 , Est :   60 , RMSE : 0.438 \n",
      "Depth:  15 , Est :   70 , RMSE : 0.437 \n",
      "Depth:  15 , Est :   80 , RMSE : 0.437 \n",
      "Depth:  15 , Est :   90 , RMSE : 0.437 \n",
      "Depth:  15 , Est :  100 , RMSE : 0.437 \n",
      "Depth:  15 , Est :  110 , RMSE : 0.436 \n",
      "Depth:  15 , Est :  120 , RMSE : 0.436 \n",
      "Depth:  15 , Est :  130 , RMSE : 0.436 \n",
      "Depth:  15 , Est :  140 , RMSE : 0.436 \n",
      "Depth:  15 , Est :  150 , RMSE : 0.436 \n",
      "Depth:  15 , Est :  160 , RMSE : 0.436 \n",
      "Depth:  15 , Est :  170 , RMSE : 0.436 \n",
      "Depth:  15 , Est :  180 , RMSE : 0.436 \n",
      "Depth:  15 , Est :  190 , RMSE : 0.436 \n",
      "Depth:  15 , Est :  200 , RMSE : 0.436 \n",
      "Depth:  20 , Est :   10 , RMSE : 0.460 \n",
      "Depth:  20 , Est :   20 , RMSE : 0.447 \n",
      "Depth:  20 , Est :   30 , RMSE : 0.444 \n",
      "Depth:  20 , Est :   40 , RMSE : 0.442 \n",
      "Depth:  20 , Est :   50 , RMSE : 0.441 \n",
      "Depth:  20 , Est :   60 , RMSE : 0.441 \n",
      "Depth:  20 , Est :   70 , RMSE : 0.440 \n",
      "Depth:  20 , Est :   80 , RMSE : 0.440 \n",
      "Depth:  20 , Est :   90 , RMSE : 0.439 \n",
      "Depth:  20 , Est :  100 , RMSE : 0.439 \n",
      "Depth:  20 , Est :  110 , RMSE : 0.438 \n",
      "Depth:  20 , Est :  120 , RMSE : 0.438 \n",
      "Depth:  20 , Est :  130 , RMSE : 0.438 \n",
      "Depth:  20 , Est :  140 , RMSE : 0.438 \n",
      "Depth:  20 , Est :  150 , RMSE : 0.438 \n",
      "Depth:  20 , Est :  160 , RMSE : 0.438 \n",
      "Depth:  20 , Est :  170 , RMSE : 0.438 \n",
      "Depth:  20 , Est :  180 , RMSE : 0.438 \n",
      "Depth:  20 , Est :  190 , RMSE : 0.438 \n",
      "Depth:  20 , Est :  200 , RMSE : 0.438 \n",
      "Depth:  25 , Est :   10 , RMSE : 0.461 \n",
      "Depth:  25 , Est :   20 , RMSE : 0.448 \n",
      "Depth:  25 , Est :   30 , RMSE : 0.445 \n",
      "Depth:  25 , Est :   40 , RMSE : 0.443 \n",
      "Depth:  25 , Est :   50 , RMSE : 0.442 \n",
      "Depth:  25 , Est :   60 , RMSE : 0.442 \n",
      "Depth:  25 , Est :   70 , RMSE : 0.441 \n",
      "Depth:  25 , Est :   80 , RMSE : 0.441 \n",
      "Depth:  25 , Est :   90 , RMSE : 0.441 \n",
      "Depth:  25 , Est :  100 , RMSE : 0.440 \n",
      "Depth:  25 , Est :  110 , RMSE : 0.440 \n",
      "Depth:  25 , Est :  120 , RMSE : 0.439 \n",
      "Depth:  25 , Est :  130 , RMSE : 0.440 \n",
      "Depth:  25 , Est :  140 , RMSE : 0.439 \n",
      "Depth:  25 , Est :  150 , RMSE : 0.439 \n",
      "Depth:  25 , Est :  160 , RMSE : 0.439 \n",
      "Depth:  25 , Est :  170 , RMSE : 0.439 \n",
      "Depth:  25 , Est :  180 , RMSE : 0.439 \n",
      "Depth:  25 , Est :  190 , RMSE : 0.439 \n",
      "Depth:  25 , Est :  200 , RMSE : 0.439 \n"
     ]
    }
   ],
   "source": [
    "rmse_scores2=[]\n",
    "for d in [10,15,20,25]:\n",
    "    for n in range(10,201,10):\n",
    "        rf = RandomForestRegressor(n_estimators=n,max_depth=d,random_state=1,n_jobs=-1)\n",
    "        rf.fit(X_train, y_train)\n",
    "\n",
    "        y_pred = rf.predict(X_val)\n",
    "        rmse_score =  rmse(y_val,y_pred)\n",
    "        rmse_scores2.append((n,rmse_score))\n",
    "        print(\"Depth:  %s , Est : %4s , RMSE : %.3f \" %(d,n, rmse(y_val,y_pred)))"
   ]
  },
  {
   "cell_type": "code",
   "execution_count": 57,
   "metadata": {},
   "outputs": [
    {
     "data": {
      "text/plain": [
       "[(10, 0.445596171749275),\n",
       " (20, 0.4420328271557668),\n",
       " (30, 0.4413920618234788),\n",
       " (40, 0.44154053612675453),\n",
       " (50, 0.4411204060832355),\n",
       " (60, 0.44109567579839254),\n",
       " (70, 0.4408047570608675),\n",
       " (80, 0.44063392403596924),\n",
       " (90, 0.44036005791386457),\n",
       " (100, 0.44014389763440204),\n",
       " (110, 0.44005376814946023),\n",
       " (120, 0.4398402482041808),\n",
       " (130, 0.43987437072357427),\n",
       " (140, 0.43986622925383334),\n",
       " (150, 0.4396889639485266),\n",
       " (160, 0.43964472224544),\n",
       " (170, 0.4396245440870465),\n",
       " (180, 0.43971691214366415),\n",
       " (190, 0.43966858819736404),\n",
       " (200, 0.43967928458182964),\n",
       " (10, 0.4498175486561694),\n",
       " (20, 0.4408041687050629),\n",
       " (30, 0.43943995012339654),\n",
       " (40, 0.43879194239068187),\n",
       " (50, 0.4381084280548172),\n",
       " (60, 0.43775747746327964),\n",
       " (70, 0.43738503419468694),\n",
       " (80, 0.43726848667661466),\n",
       " (90, 0.4368704327073059),\n",
       " (100, 0.4365436143948067),\n",
       " (110, 0.43628759495649394),\n",
       " (120, 0.43623226968337897),\n",
       " (130, 0.43632851739490763),\n",
       " (140, 0.43624458339022953),\n",
       " (150, 0.4362820924966425),\n",
       " (160, 0.4360982767830573),\n",
       " (170, 0.43598867668739827),\n",
       " (180, 0.4361219482906456),\n",
       " (190, 0.4361337264512824),\n",
       " (200, 0.4361312812227011),\n",
       " (10, 0.45976438614210824),\n",
       " (20, 0.4468063850758519),\n",
       " (30, 0.4441010161313461),\n",
       " (40, 0.4423579078833037),\n",
       " (50, 0.44131572254332624),\n",
       " (60, 0.44055476152831663),\n",
       " (70, 0.43999872409572066),\n",
       " (80, 0.43993247325790047),\n",
       " (90, 0.43929852062550573),\n",
       " (100, 0.4388036787970188),\n",
       " (110, 0.4383648882372162),\n",
       " (120, 0.43823827664148063),\n",
       " (130, 0.4382844333857575),\n",
       " (140, 0.43805645979386504),\n",
       " (150, 0.4379981901646368),\n",
       " (160, 0.437797255811193),\n",
       " (170, 0.4376444598387768),\n",
       " (180, 0.4377056904505504),\n",
       " (190, 0.4376500306475705),\n",
       " (200, 0.43764564430470415),\n",
       " (10, 0.46070004844483997),\n",
       " (20, 0.4479231675227825),\n",
       " (30, 0.44493573688024735),\n",
       " (40, 0.443204232394713),\n",
       " (50, 0.4424568587096234),\n",
       " (60, 0.44180306869726593),\n",
       " (70, 0.4412327356777305),\n",
       " (80, 0.44113477672978463),\n",
       " (90, 0.4405432448502724),\n",
       " (100, 0.44021465951348787),\n",
       " (110, 0.43961932859919717),\n",
       " (120, 0.43937034856487917),\n",
       " (130, 0.43951212060887535),\n",
       " (140, 0.4392641595142541),\n",
       " (150, 0.4391976006190898),\n",
       " (160, 0.4390696283379905),\n",
       " (170, 0.4389174495910712),\n",
       " (180, 0.439081742440244),\n",
       " (190, 0.4389732035704542),\n",
       " (200, 0.43896329959548797)]"
      ]
     },
     "execution_count": 57,
     "metadata": {},
     "output_type": "execute_result"
    }
   ],
   "source": [
    "rmse_scores2"
   ]
  },
  {
   "cell_type": "markdown",
   "metadata": {},
   "source": [
    "\n",
    "\n",
    "What's the best max_depth:\n",
    "\n",
    "    10\n",
    "    15\n",
    "    20\n",
    "    25\n",
    "\n",
    "Bonus question (not graded):\n",
    "\n",
    "Will the answer be different if we change the seed for the model?\n"
   ]
  },
  {
   "cell_type": "markdown",
   "metadata": {},
   "source": [
    "\n",
    "Question 5\n",
    "\n",
    "We can extract feature importance information from tree-based models.\n",
    "\n",
    "At each step of the decision tree learning algorith, it finds the best split.\n",
    "\n",
    "When doint it, we can calculate \"gain\" - the reduction in impurity before and after the split.\n",
    "\n",
    "This gain is quite useful in understanding what are the imporatant features for tree-based models.\n",
    "\n",
    "In Scikit-Learn, tree-based models contain this information in the feature_importances_ field.\n",
    "\n",
    "For this homework question, we'll find the most important feature:\n",
    "\n",
    "    Train the model with these parametes:\n",
    "\n",
    "        n_estimators=10,\n",
    "\n",
    "        max_depth=20,\n",
    "\n",
    "        random_state=1,\n",
    "\n",
    "        n_jobs=-1 (optional)\n",
    "        \n",
    "    Get the feature importance information from this model\n",
    "\n"
   ]
  },
  {
   "cell_type": "code",
   "execution_count": 58,
   "metadata": {},
   "outputs": [
    {
     "name": "stdout",
     "output_type": "stream",
     "text": [
      "[(0.077, 'availability_365'), (0.03, 'calculated_host_listings_count'), (0.152, 'latitude'), (0.153, 'longitude'), (0.053, 'minimum_nights'), (0.0, 'neighbourhood_group=Bronx'), (0.001, 'neighbourhood_group=Brooklyn'), (0.034, 'neighbourhood_group=Manhattan'), (0.001, 'neighbourhood_group=Queens'), (0.0, 'neighbourhood_group=Staten Island'), (0.043, 'number_of_reviews'), (0.055, 'reviews_per_month'), (0.392, 'room_type=Entire home/apt'), (0.005, 'room_type=Private room'), (0.004, 'room_type=Shared room')]\n",
      "0.392 room_type=Entire home/apt\n"
     ]
    },
    {
     "name": "stderr",
     "output_type": "stream",
     "text": [
      "/home/subman_jil/anaconda3/envs/py39tf2.6/lib/python3.9/site-packages/sklearn/utils/deprecation.py:87: FutureWarning: Function get_feature_names is deprecated; get_feature_names is deprecated in 1.0 and will be removed in 1.2. Please use get_feature_names_out instead.\n",
      "  warnings.warn(msg, category=FutureWarning)\n"
     ]
    }
   ],
   "source": [
    "rf1 = RandomForestRegressor(n_estimators=10,max_depth=20,random_state=1)\n",
    "rf1.fit(X_train, y_train)\n",
    "\n",
    "y_pred = rf.predict(X_val)\n",
    "x = rf1.feature_importances_.round(3)\n",
    "y = dv.get_feature_names()\n",
    "print(list(zip(x,y)))\n",
    "print(max(x),y[12])"
   ]
  },
  {
   "cell_type": "markdown",
   "metadata": {},
   "source": [
    "\n",
    "\n",
    "What's the most important feature?\n",
    "\n",
    "    neighbourhood_group=Manhattan\n",
    "    room_type=Entire home/apt\n",
    "    longitude\n",
    "    latitude\n",
    "\n"
   ]
  },
  {
   "cell_type": "markdown",
   "metadata": {},
   "source": [
    "\n",
    "Question 6\n",
    "\n",
    "Now let's train an XGBoost model! For this question, we'll tune the eta parameter\n",
    "\n",
    "    Install XGBoost\n",
    "    Create DMatrix for train and validation\n",
    "    Create a watchlist\n",
    "    Train a model with these parameters for 100 rounds:\n",
    "\n",
    "xgb_params = {\n",
    "    'eta': 0.3, \n",
    "    'max_depth': 6,\n",
    "    'min_child_weight': 1,\n",
    "\n",
    "    'objective': 'reg:squarederror',\n",
    "    'nthread': 8,\n",
    "\n",
    "    'seed': 1,\n",
    "    'verbosity': 1,\n",
    "}\n",
    "\n"
   ]
  },
  {
   "cell_type": "code",
   "execution_count": 60,
   "metadata": {},
   "outputs": [
    {
     "name": "stdout",
     "output_type": "stream",
     "text": [
      "Collecting xgboost\n",
      "  Downloading xgboost-1.4.2-py3-none-manylinux2010_x86_64.whl (166.7 MB)\n",
      "\u001b[K     |████████████████████████████████| 166.7 MB 8.3 kB/s \n",
      "\u001b[?25hRequirement already satisfied: numpy in /home/subman_jil/anaconda3/envs/py39tf2.6/lib/python3.9/site-packages (from xgboost) (1.19.5)\n",
      "Requirement already satisfied: scipy in /home/subman_jil/anaconda3/envs/py39tf2.6/lib/python3.9/site-packages (from xgboost) (1.7.1)\n",
      "Installing collected packages: xgboost\n",
      "Successfully installed xgboost-1.4.2\n"
     ]
    }
   ],
   "source": [
    "!pip install xgboost"
   ]
  },
  {
   "cell_type": "code",
   "execution_count": 61,
   "metadata": {},
   "outputs": [],
   "source": [
    "import xgboost as xgb"
   ]
  },
  {
   "cell_type": "code",
   "execution_count": 62,
   "metadata": {},
   "outputs": [
    {
     "name": "stderr",
     "output_type": "stream",
     "text": [
      "/home/subman_jil/anaconda3/envs/py39tf2.6/lib/python3.9/site-packages/sklearn/utils/deprecation.py:87: FutureWarning: Function get_feature_names is deprecated; get_feature_names is deprecated in 1.0 and will be removed in 1.2. Please use get_feature_names_out instead.\n",
      "  warnings.warn(msg, category=FutureWarning)\n"
     ]
    }
   ],
   "source": [
    "features = dv.get_feature_names()\n",
    "\n",
    "dtrain = xgb.DMatrix(X_train,label=y_train,feature_names=features)\n",
    "\n",
    "dval = xgb.DMatrix(X_val,label=y_val,feature_names=features)"
   ]
  },
  {
   "cell_type": "code",
   "execution_count": 63,
   "metadata": {},
   "outputs": [],
   "source": [
    "def parse_xgb_output(output):\n",
    "    results = []\n",
    "\n",
    "    for line in output.stdout.strip().split('\\n'):\n",
    "        it_line, train_line, val_line = line.split('\\t')\n",
    "\n",
    "        it = int(it_line.strip('[]'))\n",
    "        train = float(train_line.split(':')[1])\n",
    "        val = float(val_line.split(':')[1])\n",
    "\n",
    "        results.append((it, train, val))\n",
    "    \n",
    "    columns = ['num_iter', 'train_rmse', 'val_rmse']\n",
    "    df_results = pd.DataFrame(results, columns=columns)\n",
    "    return df_results"
   ]
  },
  {
   "cell_type": "code",
   "execution_count": 64,
   "metadata": {},
   "outputs": [],
   "source": [
    "watchlist = [(dtrain,'train'),(dval,'val')]"
   ]
  },
  {
   "cell_type": "code",
   "execution_count": 65,
   "metadata": {},
   "outputs": [],
   "source": [
    "scores = {}"
   ]
  },
  {
   "cell_type": "code",
   "execution_count": 75,
   "metadata": {},
   "outputs": [],
   "source": [
    "%%capture output\n",
    "\n",
    "xgb_params = {\n",
    "    'eta': 0.3, \n",
    "    'max_depth': 6,\n",
    "    'min_child_weight': 1,\n",
    "    \n",
    "    'objective': 'reg:squarederror',\n",
    "    'nthread': 8,\n",
    "    \n",
    "    'seed': 1,\n",
    "    'verbosity': 1,\n",
    "}\n",
    "\n",
    "model = xgb.train(xgb_params,dtrain,num_boost_round=100,evals=watchlist)"
   ]
  },
  {
   "cell_type": "code",
   "execution_count": 76,
   "metadata": {},
   "outputs": [
    {
     "data": {
      "text/plain": [
       "'eta=0.3'"
      ]
     },
     "execution_count": 76,
     "metadata": {},
     "output_type": "execute_result"
    }
   ],
   "source": [
    "key = 'eta=%s' % (xgb_params['eta'])\n",
    "scores[key] = parse_xgb_output(output)\n",
    "key"
   ]
  },
  {
   "cell_type": "markdown",
   "metadata": {},
   "source": [
    "\n",
    "\n",
    "Now change eta first to 0.1 and then to 0.01\n"
   ]
  },
  {
   "cell_type": "code",
   "execution_count": 80,
   "metadata": {},
   "outputs": [
    {
     "data": {
      "text/plain": [
       "(dict_keys(['eta=0.01', 'eta=0.1', 'eta=0.3']),\n",
       " dict_items([('eta=0.01',     num_iter  train_rmse  val_rmse\n",
       " 0          0     4.25336   4.25010\n",
       " 1          1     4.21141   4.20815\n",
       " 2          2     4.16988   4.16661\n",
       " 3          3     4.12877   4.12551\n",
       " 4          4     4.08807   4.08481\n",
       " ..       ...         ...       ...\n",
       " 95        95     1.69373   1.69214\n",
       " 96        96     1.67804   1.67647\n",
       " 97        97     1.66251   1.66095\n",
       " 98        98     1.64716   1.64563\n",
       " 99        99     1.63198   1.63045\n",
       " \n",
       " [100 rows x 3 columns]), ('eta=0.1',     num_iter  train_rmse  val_rmse\n",
       " 0          0     3.87217   3.86889\n",
       " 1          1     3.49150   3.48840\n",
       " 2          2     3.14949   3.14635\n",
       " 3          3     2.84232   2.83951\n",
       " 4          4     2.56650   2.56412\n",
       " ..       ...         ...       ...\n",
       " 95        95     0.40406   0.43272\n",
       " 96        96     0.40397   0.43272\n",
       " 97        97     0.40361   0.43269\n",
       " 98        98     0.40321   0.43260\n",
       " 99        99     0.40277   0.43250\n",
       " \n",
       " [100 rows x 3 columns]), ('eta=0.3',     num_iter  train_rmse  val_rmse\n",
       " 0          0     3.02752   3.02415\n",
       " 1          1     2.14667   2.14390\n",
       " 2          2     1.53878   1.53721\n",
       " 3          3     1.12557   1.12523\n",
       " 4          4     0.85100   0.85174\n",
       " ..       ...         ...       ...\n",
       " 95        95     0.36742   0.43579\n",
       " 96        96     0.36698   0.43584\n",
       " 97        97     0.36644   0.43595\n",
       " 98        98     0.36582   0.43597\n",
       " 99        99     0.36478   0.43621\n",
       " \n",
       " [100 rows x 3 columns])]))"
      ]
     },
     "execution_count": 80,
     "metadata": {},
     "output_type": "execute_result"
    }
   ],
   "source": [
    "scores.keys(),scores.items()"
   ]
  },
  {
   "cell_type": "code",
   "execution_count": 78,
   "metadata": {},
   "outputs": [
    {
     "data": {
      "text/plain": [
       "<matplotlib.legend.Legend at 0x7f26fda38b50>"
      ]
     },
     "execution_count": 78,
     "metadata": {},
     "output_type": "execute_result"
    },
    {
     "data": {
      "image/png": "[encoded data removed]",
      "text/plain": [
       "<Figure size 432x288 with 1 Axes>"
      ]
     },
     "metadata": {
      "needs_background": "light"
     },
     "output_type": "display_data"
    }
   ],
   "source": [
    "for eta, df_score in scores.items():\n",
    "    plt.plot(df_score.num_iter, df_score.val_rmse, label=eta)\n",
    "    \n",
    "\n",
    "plt.legend()"
   ]
  },
  {
   "cell_type": "markdown",
   "metadata": {},
   "source": [
    "\n",
    "\n",
    "What's the best eta?\n",
    "\n",
    "    0.3\n",
    "    0.1\n",
    "    0.01\n",
    "\n"
   ]
  }
 ],
 "metadata": {
  "interpreter": {
   "hash": "eee610873bfdf1788f7817bf80ec3a1e3006208084ee06380a98bf568858dd4d"
  },
  "kernelspec": {
   "display_name": "Python 3.9.7 64-bit ('py39tf2.6': conda)",
   "name": "python3"
  },
  "language_info": {
   "codemirror_mode": {
    "name": "ipython",
    "version": 3
   },
   "file_extension": ".py",
   "mimetype": "text/x-python",
   "name": "python",
   "nbconvert_exporter": "python",
   "pygments_lexer": "ipython3",
   "version": "3.9.7"
  }
 },
 "nbformat": 4,
 "nbformat_minor": 4
}
