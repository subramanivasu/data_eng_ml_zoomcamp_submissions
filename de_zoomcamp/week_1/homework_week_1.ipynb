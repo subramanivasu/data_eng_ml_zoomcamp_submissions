{
 "cells": [
  {
   "cell_type": "markdown",
   "metadata": {},
   "source": [
    "# Question 1: gloud version \n",
    "Install Google Cloud SDK. What's the version you have? (To get the version, run gcloud --version)"
   ]
  },
  {
   "cell_type": "code",
   "execution_count": null,
   "metadata": {},
   "outputs": [],
   "source": [
    "370.0.0"
   ]
  },
  {
   "cell_type": "markdown",
   "metadata": {},
   "source": [
    "# Question 2: terraform apply "
   ]
  },
  {
   "cell_type": "code",
   "execution_count": null,
   "metadata": {},
   "outputs": [],
   "source": [
    "NIL"
   ]
  },
  {
   "cell_type": "markdown",
   "metadata": {},
   "source": [
    "# Question 3: Count records \n",
    "How many taxi trips were there on January 15?"
   ]
  },
  {
   "cell_type": "code",
   "execution_count": 1,
   "metadata": {},
   "outputs": [
    {
     "ename": "IndentationError",
     "evalue": "unexpected indent (4266532626.py, line 2)",
     "output_type": "error",
     "traceback": [
      "\u001b[0;36m  File \u001b[0;32m\"/tmp/ipykernel_496982/4266532626.py\"\u001b[0;36m, line \u001b[0;32m2\u001b[0m\n\u001b[0;31m    CAST(tpep_pickup_datetime AS DATE) as \"day\",\u001b[0m\n\u001b[0m    ^\u001b[0m\n\u001b[0;31mIndentationError\u001b[0m\u001b[0;31m:\u001b[0m unexpected indent\n"
     ]
    }
   ],
   "source": [
    "SELECT\n",
    "  CAST(tpep_pickup_datetime AS DATE) as \"day\",\n",
    "  COUNT(1) as \"count\"\n",
    "  \n",
    "FROM\n",
    "\tyellow_taxi_trips t\n",
    "\t\n",
    "GROUP BY\n",
    "\tCAST(tpep_pickup_datetime AS DATE)\n",
    "\t\n",
    "ORDER BY \n",
    "\t\"day\" ASC,\n",
    "\t\"count\" DESC;"
   ]
  },
  {
   "cell_type": "markdown",
   "metadata": {},
   "source": [
    "# Question 4: Largest tip for each day \n",
    "On which day it was the largest tip in January? (note: it's not a typo, it's \"tip\", not \"trip\")"
   ]
  },
  {
   "cell_type": "code",
   "execution_count": null,
   "metadata": {},
   "outputs": [],
   "source": [
    "SELECT\n",
    "  CAST(tpep_dropoff_datetime AS DATE) as \"day\",\n",
    "  \"tip_amount\" as \"tip\"\n",
    "  \n",
    "FROM\n",
    "\tyellow_taxi_trips t\n",
    "\t\n",
    "GROUP BY\n",
    "\t1,2\n",
    "\t\n",
    "ORDER BY \"tip\" DESC;"
   ]
  },
  {
   "cell_type": "markdown",
   "metadata": {},
   "source": [
    "# Question 5: Most popular destination \n",
    "What was the most popular destination for passengers picked up in central park on January 14? Enter the zone name (not id). If the zone name is unknown (missing), write \"Unknown\""
   ]
  },
  {
   "cell_type": "code",
   "execution_count": null,
   "metadata": {},
   "outputs": [],
   "source": [
    "SELECT\n",
    "  CAST(tpep_pickup_datetime as DATE) as \"day\",\n",
    "  \"PULocationID\",\n",
    "  \"DOLocationID\",\n",
    "  COUNT(1) as \"count\"\n",
    "FROM\n",
    "  yellow_taxi_trips\n",
    "WHERE\n",
    "  (tpep_pickup_datetime>='2021-01-14 00:00:00' AND\n",
    "  tpep_pickup_datetime<'2021-01-14 11:59:59') AND \n",
    "  \"PULocationID\"=43\n",
    "  \n",
    "  \n",
    "GROUP BY\n",
    "\t1,2,3\n",
    "ORDER BY\n",
    "\t\"day\" ASC,\n",
    "\t\"count\" ASC;"
   ]
  },
  {
   "cell_type": "markdown",
   "metadata": {},
   "source": [
    "# Question 6: Most expensive route \n",
    "What's the pickup-dropoff pair with the largest average price for a ride (calculated based on total_amount)? Enter two zone names separated by a slashFor example:\"Jamaica Bay / Clinton East\"If any of the zone names are unknown (missing), write \"Unknown\". For example, \"Unknown / Clinton East\"."
   ]
  },
  {
   "cell_type": "code",
   "execution_count": null,
   "metadata": {},
   "outputs": [],
   "source": [
    "SELECT\n",
    "\t\n",
    "\tAVG(total_amount) AS \"avg_amnt\",\n",
    "    CONCAT(zpu.\"Zone\", '/', zdo.\"Zone\") AS \"zones\"\n",
    "    \n",
    "FROM\n",
    "    yellow_taxi_trips t JOIN zones zpu\n",
    "        ON t.\"PULocationID\" = zpu.\"LocationID\"\n",
    "    JOIN zones zdo\n",
    "        ON t.\"DOLocationID\" = zdo.\"LocationID\"\n",
    "GROUP BY\n",
    "\t2\n",
    "ORDER BY\n",
    "\t1 DESC;"
   ]
  }
 ],
 "metadata": {
  "interpreter": {
   "hash": "f9f85f796d01129d0dd105a088854619f454435301f6ffec2fea96ecbd9be4ac"
  },
  "kernelspec": {
   "display_name": "Python 3.9.5 64-bit",
   "language": "python",
   "name": "python3"
  },
  "language_info": {
   "codemirror_mode": {
    "name": "ipython",
    "version": 3
   },
   "file_extension": ".py",
   "mimetype": "text/x-python",
   "name": "python",
   "nbconvert_exporter": "python",
   "pygments_lexer": "ipython3",
   "version": "3.9.5"
  },
  "orig_nbformat": 4
 },
 "nbformat": 4,
 "nbformat_minor": 2
}
